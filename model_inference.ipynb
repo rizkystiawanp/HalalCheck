{
 "cells": [
  {
   "cell_type": "code",
   "execution_count": 7,
   "metadata": {},
   "outputs": [
    {
     "name": "stderr",
     "output_type": "stream",
     "text": [
      "WARNING:absl:At this time, the v2.11+ optimizer `tf.keras.optimizers.Adam` runs slowly on M1/M2 Macs, please use the legacy Keras optimizer instead, located at `tf.keras.optimizers.legacy.Adam`.\n"
     ]
    },
    {
     "name": "stdout",
     "output_type": "stream",
     "text": [
      "1/1 [==============================] - 0s 135ms/step\n",
      "Text: beef stock contains yeast extract and flavor enhancer → Prediction: Haram (2.72%)\n",
      "1/1 [==============================] - 0s 9ms/step\n",
      "Text: pure vegetable oil with no additives → Prediction: Halal (99.35%)\n",
      "1/1 [==============================] - 0s 10ms/step\n",
      "Text: contains pork gelatin and artificial coloring → Prediction: Haram (0.01%)\n",
      "1/1 [==============================] - 0s 9ms/step\n",
      "Text: clam stock potatoes clams cream vegetable oil corn canola andor soybean celery contains less than of modified food starch salt wheat flour soy protein concentrate uncured smoked bacon piecesno nitrates or nitrites added except for those naturally occurring in sea salt pork water sea salt sugar dried onions spicessodium phosphate flavoring clam extract succinic acid sugar soy lecithin soy sauce soybeans wheat saltcontains cod wheat milk soy → Prediction: Haram (0.31%)\n",
      "1/1 [==============================] - 0s 9ms/step\n",
      "Text: water cream broccoli celery vegetable oil corn canola andor soybean modified food starch cheddar cheese cheddar cheese cultured milk salt enzymes whey salt sodium phosphate contains less than of butter parmesan and cheddar cheese milk cultures salt enzymes wheat flour salt potatoes onions soy protein concentrate roasted garlic annatto extract for color soy lecithin driedcontains wheat milk soy → Prediction: Haram (0.13%)\n",
      "1/1 [==============================] - 0s 10ms/step\n",
      "Text: prepared organic chick peas water sea salt → Prediction: Halal (99.86%)\n"
     ]
    }
   ],
   "source": [
    "from tensorflow.keras.models import load_model\n",
    "from tensorflow.keras.preprocessing.sequence import pad_sequences\n",
    "import pickle\n",
    "import numpy as np\n",
    "import re\n",
    "from nltk.stem import WordNetLemmatizer\n",
    "from nltk.corpus import stopwords\n",
    "\n",
    "# Load Model & Tokenizer\n",
    "model = load_model('halal_haram_lstm_finetuned_model.h5')\n",
    "with open('tokenizer.pkl', 'rb') as file:\n",
    "    tokenizer = pickle.load(file)\n",
    "\n",
    "# Inisialisasi Lemmatizer & Stopwords\n",
    "lemmatizer = WordNetLemmatizer()\n",
    "stop_words = set(stopwords.words(\"english\"))\n",
    "\n",
    "# Function: Preprocess Text for Inference\n",
    "def clean_text(text):\n",
    "    text = text.lower()\n",
    "    text = re.sub(r'\\d+', '', text)\n",
    "    text = re.sub(r'[^\\w\\s]', '', text)\n",
    "    words = text.split()\n",
    "    words = [lemmatizer.lemmatize(word) for word in words if word not in stop_words]\n",
    "    return ' '.join(words)\n",
    "\n",
    "# Function: Predict Halal or Haram with Confidence Score\n",
    "def predict_label_with_confidence(text):\n",
    "    text = clean_text(text)  # Preprocess text\n",
    "    sequence = tokenizer.texts_to_sequences([text])  # Tokenize\n",
    "    padded_sequence = pad_sequences(sequence, maxlen=100, padding='post')  # Padding\n",
    "    prediction = model.predict(padded_sequence)[0][0]  # Probabilitas sigmoid\n",
    "\n",
    "    confidence = round(prediction * 100, 2)  # Konversi ke persen\n",
    "    label = \"Halal\" if prediction >= 0.3 else \"Haram\"\n",
    "    \n",
    "    return f\"{label} ({confidence}%)\"\n",
    "\n",
    "# Contoh Inference\n",
    "new_texts = [\n",
    "    \"beef stock contains yeast extract and flavor enhancer\",\n",
    "    \"pure vegetable oil with no additives\",\n",
    "    \"contains pork gelatin and artificial coloring\",\n",
    "    \"clam stock potatoes clams cream vegetable oil corn canola andor soybean celery contains less than of modified food starch salt wheat flour soy protein concentrate uncured smoked bacon piecesno nitrates or nitrites added except for those naturally occurring in sea salt pork water sea salt sugar dried onions spicessodium phosphate flavoring clam extract succinic acid sugar soy lecithin soy sauce soybeans wheat saltcontains cod wheat milk soy\",\n",
    "    \"water cream broccoli celery vegetable oil corn canola andor soybean modified food starch cheddar cheese cheddar cheese cultured milk salt enzymes whey salt sodium phosphate contains less than of butter parmesan and cheddar cheese milk cultures salt enzymes wheat flour salt potatoes onions soy protein concentrate roasted garlic annatto extract for color soy lecithin driedcontains wheat milk soy\",\n",
    "    \"prepared organic chick peas water sea salt\"\n",
    "]\n",
    "\n",
    "for text in new_texts:\n",
    "    print(f\"Text: {text} → Prediction: {predict_label_with_confidence(text)}\")\n"
   ]
  }
 ],
 "metadata": {
  "kernelspec": {
   "display_name": "base",
   "language": "python",
   "name": "python3"
  },
  "language_info": {
   "codemirror_mode": {
    "name": "ipython",
    "version": 3
   },
   "file_extension": ".py",
   "mimetype": "text/x-python",
   "name": "python",
   "nbconvert_exporter": "python",
   "pygments_lexer": "ipython3",
   "version": "3.9.19"
  }
 },
 "nbformat": 4,
 "nbformat_minor": 2
}
